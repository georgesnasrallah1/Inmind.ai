{
 "cells": [
  {
   "cell_type": "code",
   "execution_count": 1,
   "id": "1935214d",
   "metadata": {},
   "outputs": [],
   "source": [
    "from model import UNET\n",
    "import torch\n",
    "import torch.nn as nn\n",
    "import torchvision"
   ]
  },
  {
   "cell_type": "code",
   "execution_count": 2,
   "id": "f2db943d",
   "metadata": {},
   "outputs": [],
   "source": [
    "from importnb import Notebook\n",
    "\n",
    "with Notebook():\n",
    "    from UtilsEdited import load_checkpoint"
   ]
  },
  {
   "cell_type": "code",
   "execution_count": 3,
   "id": "e15f52b8",
   "metadata": {},
   "outputs": [],
   "source": [
    "DEVICE = 'cuda'"
   ]
  },
  {
   "cell_type": "code",
   "execution_count": 4,
   "id": "0f2414b0",
   "metadata": {},
   "outputs": [],
   "source": [
    "model = UNET(in_channels=3, out_channels=1).to(DEVICE)"
   ]
  },
  {
   "cell_type": "code",
   "execution_count": 5,
   "id": "de477fbb",
   "metadata": {},
   "outputs": [
    {
     "name": "stderr",
     "output_type": "stream",
     "text": [
      "C:\\Users\\georg\\AppData\\Local\\Temp\\ipykernel_15068\\38512237.py:1: FutureWarning: You are using `torch.load` with `weights_only=False` (the current default value), which uses the default pickle module implicitly. It is possible to construct malicious pickle data which will execute arbitrary code during unpickling (See https://github.com/pytorch/pytorch/blob/main/SECURITY.md#untrusted-models for more details). In a future release, the default value for `weights_only` will be flipped to `True`. This limits the functions that could be executed during unpickling. Arbitrary objects will no longer be allowed to be loaded via this mode unless they are explicitly allowlisted by the user via `torch.serialization.add_safe_globals`. We recommend you start setting `weights_only=True` for any use case where you don't have full control of the loaded file. Please open an issue on GitHub for any issues related to this experimental feature.\n",
      "  load_checkpoint(torch.load('my_checkpoint.pth.tar'), model)\n"
     ]
    },
    {
     "name": "stdout",
     "output_type": "stream",
     "text": [
      "=> Loading checkpoint\n"
     ]
    }
   ],
   "source": [
    "load_checkpoint(torch.load('my_checkpoint.pth.tar'), model)"
   ]
  },
  {
   "cell_type": "code",
   "execution_count": 6,
   "id": "79b9d537",
   "metadata": {},
   "outputs": [],
   "source": [
    "from PIL import Image\n",
    "import numpy as np\n",
    "import albumentations as A\n",
    "from albumentations.pytorch import ToTensorV2"
   ]
  },
  {
   "cell_type": "code",
   "execution_count": 11,
   "id": "b1979505",
   "metadata": {},
   "outputs": [],
   "source": [
    "def inference(img_pth,pred_pth,idx,transform):\n",
    "    \n",
    "    image = np.array(Image.open(img_path).convert('RGB'))\n",
    "    augmentation = transform(image = image)\n",
    "    image_t = augmentation[\"image\"]\n",
    "    image_t = image_t.to(device = DEVICE)\n",
    "    image_t = image_t.unsqueeze(0)\n",
    "    model.eval()\n",
    "    with torch.no_grad():\n",
    "            preds = torch.sigmoid(model(image_t))\n",
    "            preds = (preds > 0.5).float()\n",
    "            torchvision.utils.save_image(preds, f\"{pred_pth}/pred_{idx}.png\")\n",
    "    "
   ]
  },
  {
   "cell_type": "code",
   "execution_count": 12,
   "id": "48864c57",
   "metadata": {},
   "outputs": [],
   "source": [
    "transform = A.Compose(\n",
    "    [\n",
    "        A.Resize(height=160, width=240),\n",
    "        A.Normalize(\n",
    "            mean=[0.0, 0.0, 0.0],\n",
    "            std=[1.0, 1.0, 1.0],\n",
    "            max_pixel_value=255.0,\n",
    "        ),\n",
    "        ToTensorV2(), \n",
    "    ]\n",
    ")"
   ]
  },
  {
   "cell_type": "code",
   "execution_count": 13,
   "id": "824872ec",
   "metadata": {},
   "outputs": [],
   "source": [
    "img_path = \"C:\\\\Users\\\\georg\\\\Desktop\\\\inmind-material\\\\Week-6\\\\Session-1\\\\unet\\\\test_image_inference\\\\car1.jpg\"\n",
    "pred_path = \"C:\\\\Users\\\\georg\\\\Desktop\\\\inmind-material\\\\Week-6\\\\Session-1\\\\unet\\\\pred_image_inference\"\n",
    "idx = 2"
   ]
  },
  {
   "cell_type": "code",
   "execution_count": 14,
   "id": "ea5ad9d6",
   "metadata": {},
   "outputs": [],
   "source": [
    "inference(img_path, pred_path, idx, transform)"
   ]
  },
  {
   "cell_type": "code",
   "execution_count": null,
   "id": "0126261f",
   "metadata": {},
   "outputs": [],
   "source": []
  }
 ],
 "metadata": {
  "kernelspec": {
   "display_name": "Python 3 (ipykernel)",
   "language": "python",
   "name": "python3"
  },
  "language_info": {
   "codemirror_mode": {
    "name": "ipython",
    "version": 3
   },
   "file_extension": ".py",
   "mimetype": "text/x-python",
   "name": "python",
   "nbconvert_exporter": "python",
   "pygments_lexer": "ipython3",
   "version": "3.11.9"
  }
 },
 "nbformat": 4,
 "nbformat_minor": 5
}

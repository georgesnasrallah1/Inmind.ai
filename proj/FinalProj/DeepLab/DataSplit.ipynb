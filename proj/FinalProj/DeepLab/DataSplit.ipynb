{
 "cells": [
  {
   "cell_type": "code",
   "execution_count": 3,
   "id": "6992f059",
   "metadata": {},
   "outputs": [
    {
     "name": "stdout",
     "output_type": "stream",
     "text": [
      "Dataset split complete: 900 images for training, 100 images for validation.\n"
     ]
    }
   ],
   "source": [
    "import os\n",
    "import shutil\n",
    "import random\n",
    "\n",
    "def split_dataset(images_folder, masks_folder, train_images_folder, train_masks_folder, val_images_folder, val_masks_folder, train_size=900):\n",
    "    # Create the train and validation directories if they don't exist\n",
    "    os.makedirs(train_images_folder, exist_ok=True)\n",
    "    os.makedirs(train_masks_folder, exist_ok=True)\n",
    "    os.makedirs(val_images_folder, exist_ok=True)\n",
    "    os.makedirs(val_masks_folder, exist_ok=True)\n",
    "    \n",
    "    # Get a list of all image files\n",
    "    image_files = sorted(os.listdir(images_folder))\n",
    "    \n",
    "    # Extract the 4-digit numbers from image filenames\n",
    "    image_ids = [f.split('_')[1].split('.')[0] for f in image_files]\n",
    "\n",
    "    # Shuffle the image IDs\n",
    "    random.shuffle(image_ids)\n",
    "    \n",
    "    # Split the IDs into train and validation sets\n",
    "    train_ids = image_ids[:train_size]\n",
    "    val_ids = image_ids[train_size:]\n",
    "    \n",
    "    # Move the files into the appropriate directories\n",
    "    for image_id in train_ids:\n",
    "        image_file = f'rgb_{image_id}.png'\n",
    "        mask_file = f'semantic_segmentation_{image_id}.png'\n",
    "        \n",
    "        # Move the image and mask to the train folder\n",
    "        shutil.copy(os.path.join(images_folder, image_file), os.path.join(train_images_folder, image_file))\n",
    "        shutil.copy(os.path.join(masks_folder, mask_file), os.path.join(train_masks_folder, mask_file))\n",
    "    \n",
    "    for image_id in val_ids:\n",
    "        image_file = f'rgb_{image_id}.png'\n",
    "        mask_file = f'semantic_segmentation_{image_id}.png'\n",
    "        \n",
    "        # Move the image and mask to the validation folder\n",
    "        shutil.copy(os.path.join(images_folder, image_file), os.path.join(val_images_folder, image_file))\n",
    "        shutil.copy(os.path.join(masks_folder, mask_file), os.path.join(val_masks_folder, mask_file))\n",
    "    \n",
    "    print(f\"Dataset split complete: {train_size} images for training, {len(val_ids)} images for validation.\")\n",
    "\n",
    "# Example usage:\n",
    "images_folder = 'C:\\\\Users\\\\georg\\\\Desktop\\\\Train'\n",
    "masks_folder = 'C:\\\\Users\\\\georg\\\\Desktop\\\\Train_mask'\n",
    "train_images_folder = 'C:\\\\Users\\\\georg\\\\Desktop\\\\Segmentation_data\\\\train\\\\images'\n",
    "train_masks_folder =  'C:\\\\Users\\\\georg\\\\Desktop\\\\Segmentation_data\\\\train\\\\labels'\n",
    "val_images_folder = 'C:\\\\Users\\\\georg\\\\Desktop\\\\Segmentation_data\\\\validation\\\\images'\n",
    "val_masks_folder = 'C:\\\\Users\\\\georg\\\\Desktop\\\\Segmentation_data\\\\validation\\\\lables'\n",
    "\n",
    "split_dataset(images_folder, masks_folder, train_images_folder, train_masks_folder, val_images_folder, val_masks_folder)\n"
   ]
  },
  {
   "cell_type": "code",
   "execution_count": null,
   "id": "5a4ad692",
   "metadata": {},
   "outputs": [],
   "source": []
  }
 ],
 "metadata": {
  "kernelspec": {
   "display_name": "Python 3 (ipykernel)",
   "language": "python",
   "name": "python3"
  },
  "language_info": {
   "codemirror_mode": {
    "name": "ipython",
    "version": 3
   },
   "file_extension": ".py",
   "mimetype": "text/x-python",
   "name": "python",
   "nbconvert_exporter": "python",
   "pygments_lexer": "ipython3",
   "version": "3.11.9"
  }
 },
 "nbformat": 4,
 "nbformat_minor": 5
}

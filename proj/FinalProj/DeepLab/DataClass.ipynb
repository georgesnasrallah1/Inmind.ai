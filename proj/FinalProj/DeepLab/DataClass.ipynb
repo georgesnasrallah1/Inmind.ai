{
 "cells": [
  {
   "cell_type": "code",
   "execution_count": 59,
   "id": "01cc63c8",
   "metadata": {},
   "outputs": [],
   "source": [
    "import torch\n",
    "import torchvision\n",
    "from torch.utils.data import Dataset\n",
    "import numpy as np\n",
    "import os\n",
    "from PIL import Image"
   ]
  },
  {
   "cell_type": "code",
   "execution_count": 60,
   "id": "e39a44c1",
   "metadata": {},
   "outputs": [],
   "source": [
    "color_to_class={\n",
    "    (255, 197, 25): 0,      # Forklift\n",
    "    (140, 255, 25): 1,      # Rack\n",
    "    (140, 25, 255): 2,      # Crate\n",
    "    (226, 255, 25): 3,      # Floor\n",
    "    (255, 111, 25): 4,      # Railing\n",
    "    (255, 25, 197): 5,      # Pallet\n",
    "    (54, 255, 25): 6,       # Stillage\n",
    "    (25, 255, 82): 7,       # iwhub\n",
    "    (25, 82, 255): 8,       # Dolly\n",
    "    (0, 0, 0): 9,           # Background\n",
    "}"
   ]
  },
  {
   "cell_type": "code",
   "execution_count": 61,
   "id": "ff1faac0",
   "metadata": {},
   "outputs": [],
   "source": [
    "def rgb_to_class_map(image, color_to_class):\n",
    "    \n",
    "    # Ensure image is a numpy array\n",
    "    if isinstance(image, Image.Image):\n",
    "        image = np.array(image)\n",
    "\n",
    "    # Initialize a single-channel output image\n",
    "    height, width, _ = image.shape\n",
    "    class_map = np.zeros((height, width), dtype=np.int64)\n",
    "\n",
    "    # Iterate through the color map and apply class labels\n",
    "    for rgb_value, class_id in color_to_class.items():\n",
    "        class_map[np.all(image == rgb_value, axis=-1)] = int(class_id)\n",
    "\n",
    "    # Return the class map with shape (height, width)\n",
    "    return class_map"
   ]
  },
  {
   "cell_type": "code",
   "execution_count": 62,
   "id": "3382ba2f",
   "metadata": {},
   "outputs": [],
   "source": [
    "class DataSet(Dataset):\n",
    "\n",
    "    def __init__(self, image_dir, mask_dir, transform=None) -> None:\n",
    "        super(DataSet, self).__init__()\n",
    "        self.image_dir = image_dir\n",
    "        self.mask_dir = mask_dir\n",
    "        self.transform = transform\n",
    "        self.images = os.listdir(image_dir)\n",
    "        self.masks = os.listdir(mask_dir)\n",
    "\n",
    "    def __len__(self):\n",
    "        return len(self.images)\n",
    "\n",
    "    def __getitem__(self, index):\n",
    "        image_path = os.path.join(self.image_dir, self.images[index])\n",
    "        mask_path = os.path.join(self.mask_dir, self.masks[index])\n",
    "\n",
    "        image = np.array(Image.open(image_path).convert(\"RGB\"))\n",
    "        mask = np.array(Image.open(mask_path).convert(\"RGB\"))\n",
    "        mask = rgb_to_class_map(mask, color_to_class)\n",
    "\n",
    "        if self.transform is not None:\n",
    "            augemantations = self.transform(image=image, mask=mask)\n",
    "            image = augemantations['image']\n",
    "            mask = augemantations['mask']\n",
    "            \n",
    "        return image, mask"
   ]
  },
  {
   "cell_type": "code",
   "execution_count": null,
   "id": "f188501e",
   "metadata": {},
   "outputs": [],
   "source": []
  }
 ],
 "metadata": {
  "kernelspec": {
   "display_name": "Python 3 (ipykernel)",
   "language": "python",
   "name": "python3"
  },
  "language_info": {
   "codemirror_mode": {
    "name": "ipython",
    "version": 3
   },
   "file_extension": ".py",
   "mimetype": "text/x-python",
   "name": "python",
   "nbconvert_exporter": "python",
   "pygments_lexer": "ipython3",
   "version": "3.11.9"
  }
 },
 "nbformat": 4,
 "nbformat_minor": 5
}

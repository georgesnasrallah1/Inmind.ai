{
 "cells": [
  {
   "cell_type": "code",
   "execution_count": 3,
   "id": "e6119ddf",
   "metadata": {},
   "outputs": [
    {
     "name": "stdout",
     "output_type": "stream",
     "text": [
      "Image paths saved to C:\\Users\\georg\\Desktop\\Yolo_data\\test_images.txt\n",
      "Txt file paths saved to C:\\Users\\georg\\Desktop\\Yolo_data\\test_bbxs.txt\n"
     ]
    }
   ],
   "source": [
    "import os\n",
    "\n",
    "# Define the directories for images and txt files\n",
    "image_dir = 'C:\\\\Users\\\\georg\\\\Desktop\\\\Yolo_data\\\\Test_images'  # Replace with the path to your image folder\n",
    "txt_dir = 'C:\\\\Users\\\\georg\\\\Desktop\\\\Yolo_data\\\\Test_bbxs'      # Replace with the path to your txt folder\n",
    "\n",
    "# Output file names\n",
    "image_list_file = 'C:\\\\Users\\\\georg\\\\Desktop\\\\Yolo_data\\\\test_images.txt'\n",
    "txt_list_file = 'C:\\\\Users\\\\georg\\\\Desktop\\\\Yolo_data\\\\test_bbxs.txt'\n",
    "\n",
    "# Get sorted lists of image and txt filenames\n",
    "image_files = sorted([f for f in os.listdir(image_dir) if f.endswith('.png')])\n",
    "txt_files = sorted([f for f in os.listdir(txt_dir) if f.endswith('.txt')])\n",
    "\n",
    "# Write image paths to image_list_file\n",
    "with open(image_list_file, 'w') as img_f:\n",
    "    for img in image_files:\n",
    "        img_path = os.path.join(image_dir, img)\n",
    "        img_f.write(f\"{img_path}\\n\")\n",
    "\n",
    "# Write txt file paths to txt_list_file\n",
    "with open(txt_list_file, 'w') as txt_f:\n",
    "    for txt in txt_files:\n",
    "        txt_path = os.path.join(txt_dir, txt)\n",
    "        txt_f.write(f\"{txt_path}\\n\")\n",
    "\n",
    "print(f\"Image paths saved to {image_list_file}\")\n",
    "print(f\"Txt file paths saved to {txt_list_file}\")\n"
   ]
  },
  {
   "cell_type": "code",
   "execution_count": null,
   "id": "41662281",
   "metadata": {},
   "outputs": [],
   "source": []
  }
 ],
 "metadata": {
  "kernelspec": {
   "display_name": "Python 3 (ipykernel)",
   "language": "python",
   "name": "python3"
  },
  "language_info": {
   "codemirror_mode": {
    "name": "ipython",
    "version": 3
   },
   "file_extension": ".py",
   "mimetype": "text/x-python",
   "name": "python",
   "nbconvert_exporter": "python",
   "pygments_lexer": "ipython3",
   "version": "3.11.9"
  }
 },
 "nbformat": 4,
 "nbformat_minor": 5
}

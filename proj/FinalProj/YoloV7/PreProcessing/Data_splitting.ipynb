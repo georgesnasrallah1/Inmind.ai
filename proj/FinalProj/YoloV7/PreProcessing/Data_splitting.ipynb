{
 "cells": [
  {
   "cell_type": "code",
   "execution_count": 2,
   "id": "6f372bb7",
   "metadata": {},
   "outputs": [],
   "source": [
    "import os\n",
    "import random\n",
    "import shutil"
   ]
  },
  {
   "cell_type": "code",
   "execution_count": 5,
   "id": "c1de2bdd",
   "metadata": {},
   "outputs": [
    {
     "ename": "OSError",
     "evalue": "[WinError 123] The filename, directory name, or volume label syntax is incorrect: 'C:\\\\Users\\\\georg\\\\Desktop\\\\Segmentation_data\\x0balidation'",
     "output_type": "error",
     "traceback": [
      "\u001b[1;31m---------------------------------------------------------------------------\u001b[0m",
      "\u001b[1;31mOSError\u001b[0m                                   Traceback (most recent call last)",
      "Cell \u001b[1;32mIn[5], line 16\u001b[0m\n\u001b[0;32m     14\u001b[0m \u001b[38;5;66;03m# Create directories if they don't exist\u001b[39;00m\n\u001b[0;32m     15\u001b[0m \u001b[38;5;28;01mfor\u001b[39;00m dir_path \u001b[38;5;129;01min\u001b[39;00m output_dirs\u001b[38;5;241m.\u001b[39mvalues():\n\u001b[1;32m---> 16\u001b[0m     os\u001b[38;5;241m.\u001b[39mmakedirs(dir_path, exist_ok\u001b[38;5;241m=\u001b[39m\u001b[38;5;28;01mTrue\u001b[39;00m)\n\u001b[0;32m     18\u001b[0m \u001b[38;5;66;03m# Get list of all images and corresponding labels\u001b[39;00m\n\u001b[0;32m     19\u001b[0m image_files \u001b[38;5;241m=\u001b[39m \u001b[38;5;28msorted\u001b[39m([f \u001b[38;5;28;01mfor\u001b[39;00m f \u001b[38;5;129;01min\u001b[39;00m os\u001b[38;5;241m.\u001b[39mlistdir(image_dir) \u001b[38;5;28;01mif\u001b[39;00m f\u001b[38;5;241m.\u001b[39mendswith(\u001b[38;5;124m'\u001b[39m\u001b[38;5;124m.png\u001b[39m\u001b[38;5;124m'\u001b[39m)])\n",
      "File \u001b[1;32m<frozen os>:215\u001b[0m, in \u001b[0;36mmakedirs\u001b[1;34m(name, mode, exist_ok)\u001b[0m\n",
      "File \u001b[1;32m<frozen os>:225\u001b[0m, in \u001b[0;36mmakedirs\u001b[1;34m(name, mode, exist_ok)\u001b[0m\n",
      "\u001b[1;31mOSError\u001b[0m: [WinError 123] The filename, directory name, or volume label syntax is incorrect: 'C:\\\\Users\\\\georg\\\\Desktop\\\\Segmentation_data\\x0balidation'"
     ]
    }
   ],
   "source": [
    "# Set up your directories\n",
    "image_dir = 'C:\\\\Users\\\\georg\\\\Desktop\\\\Train'  # Replace with the path to your image folder\n",
    "label_dir = 'C:\\\\Users\\\\georg\\\\Desktop\\\\Train_mask'  # Replace with the path to your label folder\n",
    "\n",
    "# Set up output directories\n",
    "output_dirs = {\n",
    "    'train_images': 'C:\\\\Users\\\\georg\\\\Desktop\\\\Segmentation_data\\\\train\\\\images',        # Replace with the path to save train images\n",
    "    'train_labels': 'C:\\\\Users\\\\georg\\\\Desktop\\\\Segmentation_data\\\\train\\\\labels',        # Replace with the path to save train labels\n",
    "    'validation_images': 'C:\\\\Users\\\\georg\\\\Desktop\\\\Segmentation_data\\\\validation\\\\images',  # Replace with the path to save validation images\n",
    "    'validation_labels': 'C:\\\\Users\\\\georg\\\\Desktop\\\\Segmentation_data\\validation\\\\lables',  # Replace with the path to save validation labels\n",
    "\n",
    "}\n",
    "\n",
    "# Create directories if they don't exist\n",
    "for dir_path in output_dirs.values():\n",
    "    os.makedirs(dir_path, exist_ok=True)\n",
    "\n",
    "# Get list of all images and corresponding labels\n",
    "image_files = sorted([f for f in os.listdir(image_dir) if f.endswith('.png')])\n",
    "label_files = sorted([f for f in os.listdir(label_dir) if f.endswith('.txt')])\n",
    "\n",
    "# Ensure matching pairs\n",
    "image_files = [f for f in image_files if f.replace('rgb_', 'bounding_box_2d_tight_').replace('.png', '.txt') in label_files]\n",
    "\n",
    "# Randomly shuffle and split the dataset\n",
    "random.seed(42)  # Seed for reproducibility\n",
    "combined = list(zip(image_files, label_files))\n",
    "random.shuffle(combined)\n",
    "\n",
    "train_split = 900\n",
    "val_split = 100\n",
    "\n",
    "train_set = combined[:train_split]\n",
    "val_set = combined[train_split:train_split + val_split]\n",
    "\n",
    "# Helper function to move files\n",
    "def move_files(file_set, image_dest, label_dest):\n",
    "    for image_file, label_file in file_set:\n",
    "        shutil.copy(os.path.join(image_dir, image_file), os.path.join(image_dest, image_file))\n",
    "        shutil.copy(os.path.join(label_dir, label_file), os.path.join(label_dest, label_file))\n",
    "\n",
    "# Move the files to their respective directories\n",
    "move_files(train_set, output_dirs['train_images'], output_dirs['train_labels'])\n",
    "move_files(val_set, output_dirs['validation_images'], output_dirs['validation_labels'])\n",
    "\n",
    "print(\"Dataset split completed.\")\n"
   ]
  },
  {
   "cell_type": "code",
   "execution_count": null,
   "id": "4329294d",
   "metadata": {},
   "outputs": [],
   "source": []
  }
 ],
 "metadata": {
  "kernelspec": {
   "display_name": "Python 3 (ipykernel)",
   "language": "python",
   "name": "python3"
  },
  "language_info": {
   "codemirror_mode": {
    "name": "ipython",
    "version": 3
   },
   "file_extension": ".py",
   "mimetype": "text/x-python",
   "name": "python",
   "nbconvert_exporter": "python",
   "pygments_lexer": "ipython3",
   "version": "3.11.9"
  }
 },
 "nbformat": 4,
 "nbformat_minor": 5
}

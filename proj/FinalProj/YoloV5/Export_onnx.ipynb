{
 "cells": [
  {
   "cell_type": "code",
   "execution_count": 4,
   "id": "e922af6a",
   "metadata": {},
   "outputs": [
    {
     "name": "stderr",
     "output_type": "stream",
     "text": [
      "\u001b[34m\u001b[1mexport: \u001b[0mdata=C:\\Users\\georg\\Desktop\\yolov5\\yolov5\\data\\coco128.yaml, weights=['runs/train/Run5/weights/best.pt'], imgsz=[640, 640], batch_size=1, device=cpu, half=False, inplace=False, keras=False, optimize=False, int8=False, per_tensor=False, dynamic=False, simplify=False, mlmodel=False, opset=17, verbose=False, workspace=4, nms=False, agnostic_nms=False, topk_per_class=100, topk_all=100, iou_thres=0.65, conf_thres=0.35, include=['onnx']\n",
      "YOLOv5  v7.0-356-g2070b303 Python-3.11.9 torch-2.4.0+cu124 CPU\n",
      "\n",
      "Fusing layers... \n",
      "YOLOv5m summary: 212 layers, 20885262 parameters, 0 gradients, 48.0 GFLOPs\n",
      "\n",
      "\u001b[34m\u001b[1mPyTorch:\u001b[0m starting from runs\\train\\Run5\\weights\\best.pt with output shape (1, 25200, 14) (40.2 MB)\n",
      "\n",
      "\u001b[34m\u001b[1mONNX:\u001b[0m starting export with onnx 1.15.0...\n",
      "\u001b[34m\u001b[1mONNX:\u001b[0m export success  4.0s, saved as runs\\train\\Run5\\weights\\best.onnx (80.1 MB)\n",
      "\n",
      "Export complete (7.8s)\n",
      "Results saved to \u001b[1mC:\\Users\\georg\\Desktop\\yolov5\\yolov5\\runs\\train\\Run5\\weights\u001b[0m\n",
      "Detect:          python detect.py --weights runs\\train\\Run5\\weights\\best.onnx \n",
      "Validate:        python val.py --weights runs\\train\\Run5\\weights\\best.onnx \n",
      "PyTorch Hub:     model = torch.hub.load('ultralytics/yolov5', 'custom', 'runs\\train\\Run5\\weights\\best.onnx')  \n",
      "Visualize:       https://netron.app\n"
     ]
    }
   ],
   "source": [
    "!python export.py --weights runs/train/Run5/weights/best.pt \\\n",
    "        --include onnx\\\n",
    "        --topk-all 100 --iou-thres 0.65 --conf-thres 0.35 \\\n",
    "        --img-size 640 640 "
   ]
  },
  {
   "cell_type": "code",
   "execution_count": null,
   "id": "a85d8273",
   "metadata": {},
   "outputs": [],
   "source": []
  }
 ],
 "metadata": {
  "kernelspec": {
   "display_name": "Python 3 (ipykernel)",
   "language": "python",
   "name": "python3"
  },
  "language_info": {
   "codemirror_mode": {
    "name": "ipython",
    "version": 3
   },
   "file_extension": ".py",
   "mimetype": "text/x-python",
   "name": "python",
   "nbconvert_exporter": "python",
   "pygments_lexer": "ipython3",
   "version": "3.11.9"
  }
 },
 "nbformat": 4,
 "nbformat_minor": 5
}

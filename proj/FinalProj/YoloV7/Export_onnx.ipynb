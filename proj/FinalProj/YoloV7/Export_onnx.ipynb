{
 "cells": [
  {
   "cell_type": "code",
   "execution_count": 38,
   "id": "a56bf4f1",
   "metadata": {},
   "outputs": [
    {
     "name": "stdout",
     "output_type": "stream",
     "text": [
      "Import onnx_graphsurgeon failure: No module named 'onnx_graphsurgeon'\n",
      "Namespace(weights='runs/train/App50e50f_last/weights/best.pt', img_size=[640, 640], batch_size=1, dynamic=False, dynamic_batch=False, grid=True, end2end=True, max_wh=640, topk_all=100, iou_thres=0.9, conf_thres=0.9, device='cpu', simplify=True, include_nms=True, fp16=False, int8=False)\n",
      "Fusing layers... \n",
      "RepConv.fuse_repvgg_block\n",
      "RepConv.fuse_repvgg_block\n",
      "RepConv.fuse_repvgg_block\n",
      "IDetect.fuse\n",
      "\n",
      "Starting TorchScript export with torch 2.4.0+cu124...\n",
      "TorchScript export success, saved as runs/train/App50e50f_last/weights/best.torchscript.pt\n",
      "CoreML export failure: No module named 'coremltools'\n",
      "\n",
      "Starting TorchScript-Lite export with torch 2.4.0+cu124...\n",
      "TorchScript-Lite export success, saved as runs/train/App50e50f_last/weights/best.torchscript.ptl\n",
      "\n",
      "Starting ONNX export with onnx 1.15.0...\n",
      "onnxruntime\n",
      "Simplifier failure: No module named 'onnxsim'\n",
      "ONNX export success, saved as runs/train/App50e50f_last/weights/best.onnx\n",
      "Registering NMS plugin for ONNX...\n",
      "ONNX export failure: name 'gs' is not defined\n",
      "\n",
      "Export complete (27.36s). Visualize with https://github.com/lutzroeder/netron.\n"
     ]
    },
    {
     "name": "stderr",
     "output_type": "stream",
     "text": [
      "YOLOR  v0.1-128-ga207844 torch 2.4.0+cu124 CPU\n",
      "\n",
      "C:\\Users\\georg\\Desktop\\Final-Project-inmind.ai\\yolov7\\models\\experimental.py:252: FutureWarning: You are using `torch.load` with `weights_only=False` (the current default value), which uses the default pickle module implicitly. It is possible to construct malicious pickle data which will execute arbitrary code during unpickling (See https://github.com/pytorch/pytorch/blob/main/SECURITY.md#untrusted-models for more details). In a future release, the default value for `weights_only` will be flipped to `True`. This limits the functions that could be executed during unpickling. Arbitrary objects will no longer be allowed to be loaded via this mode unless they are explicitly allowlisted by the user via `torch.serialization.add_safe_globals`. We recommend you start setting `weights_only=True` for any use case where you don't have full control of the loaded file. Please open an issue on GitHub for any issues related to this experimental feature.\n",
      "  ckpt = torch.load(w, map_location=map_location)  # load\n",
      "C:\\Users\\georg\\anaconda3\\envs\\Test_CV\\Lib\\site-packages\\torch\\functional.py:513: UserWarning: torch.meshgrid: in an upcoming release, it will be required to pass the indexing argument. (Triggered internally at C:\\actions-runner\\_work\\pytorch\\pytorch\\builder\\windows\\pytorch\\aten\\src\\ATen\\native\\TensorShape.cpp:3610.)\n",
      "  return _VF.meshgrid(tensors, **kwargs)  # type: ignore[attr-defined]\n",
      "Model Summary: 314 layers, 36524924 parameters, 6194944 gradients, 103.3 GFLOPS\n",
      "C:\\Users\\georg\\Desktop\\Final-Project-inmind.ai\\yolov7\\models\\yolo.py:150: TracerWarning: Converting a tensor to a Python boolean might cause the trace to be incorrect. We can't record the data flow of Python values, so this value will be treated as a constant in the future. This means that the trace might not generalize to other inputs!\n",
      "  if self.grid[i].shape[2:4] != x[i].shape[2:4]:\n",
      "C:\\Users\\georg\\Desktop\\Final-Project-inmind.ai\\yolov7\\models\\yolo.py:203: TracerWarning: torch.tensor results are registered as constants in the trace. You can safely ignore this warning if you use this function to create tensors out of constant variables that would be the same every time you call this function. In any other case, this might cause the trace to be incorrect.\n",
      "  convert_matrix = torch.tensor([[1, 0, 1, 0], [0, 1, 0, 1], [-0.5, 0, 0.5, 0], [0, -0.5, 0, 0.5]],\n",
      "C:\\Users\\georg\\anaconda3\\envs\\Test_CV\\Lib\\site-packages\\torch\\onnx\\symbolic_opset9.py:5715: UserWarning: Exporting aten::index operator of advanced indexing in opset 12 is achieved by combination of multiple ONNX operators, including Reshape, Transpose, Concat, and Gather. If indices include negative values, the exported graph will produce incorrect results.\n",
      "  warnings.warn(\n"
     ]
    }
   ],
   "source": [
    "!python export.py --weights runs/train/App50e50f_last/weights/best.pt \\\n",
    "        --grid --end2end --simplify --include-nms\\\n",
    "        --topk-all 100 --iou-thres 0.65 --conf-thres 0.35 \\\n",
    "        --img-size 640 640 --max-wh 640 "
   ]
  },
  {
   "cell_type": "code",
   "execution_count": null,
   "id": "85e34352",
   "metadata": {},
   "outputs": [],
   "source": [
    "!python export.py --weights yolov5s.pt --include onnx"
   ]
  }
 ],
 "metadata": {
  "kernelspec": {
   "display_name": "Python 3 (ipykernel)",
   "language": "python",
   "name": "python3"
  },
  "language_info": {
   "codemirror_mode": {
    "name": "ipython",
    "version": 3
   },
   "file_extension": ".py",
   "mimetype": "text/x-python",
   "name": "python",
   "nbconvert_exporter": "python",
   "pygments_lexer": "ipython3",
   "version": "3.11.9"
  }
 },
 "nbformat": 4,
 "nbformat_minor": 5
}

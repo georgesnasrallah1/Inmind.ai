{
 "cells": [
  {
   "cell_type": "code",
   "execution_count": 1,
   "id": "58b4cb1a",
   "metadata": {},
   "outputs": [],
   "source": [
    "from model import UNET"
   ]
  },
  {
   "cell_type": "code",
   "execution_count": 2,
   "id": "051e8eb5",
   "metadata": {},
   "outputs": [],
   "source": [
    "from importnb import Notebook\n",
    "\n",
    "with Notebook():\n",
    "    from CustomDataClass import CarsDataSet\n",
    "    from UtilsEdited import save_checkpoint, load_checkpoint, get_loaders, check_accuracy"
   ]
  },
  {
   "cell_type": "code",
   "execution_count": 3,
   "id": "2b6c1e5f",
   "metadata": {},
   "outputs": [],
   "source": [
    "import torch\n",
    "import torch.nn as nn\n",
    "import torch.optim as optim\n",
    "import albumentations as A\n",
    "from albumentations.pytorch import ToTensorV2\n",
    "from tqdm.notebook import tqdm"
   ]
  },
  {
   "cell_type": "markdown",
   "id": "3fa1c100",
   "metadata": {},
   "source": [
    "###### HyperParameters"
   ]
  },
  {
   "cell_type": "code",
   "execution_count": 4,
   "id": "2c719d2a",
   "metadata": {},
   "outputs": [],
   "source": [
    "LEARNING_RATE = 1e-4\n",
    "DEVICE = 'cuda' if torch.cuda.is_available() else 'cpu'\n",
    "BATCH_SIZE = 16\n",
    "NUM_EPOCHS = 15\n",
    "IMAGE_HEIGHT = 160\n",
    "IMAGE_WIDTH = 240\n",
    "LOAD_MODEL = False"
   ]
  },
  {
   "cell_type": "code",
   "execution_count": 5,
   "id": "24447963",
   "metadata": {},
   "outputs": [
    {
     "name": "stdout",
     "output_type": "stream",
     "text": [
      "cuda\n"
     ]
    }
   ],
   "source": [
    "print(DEVICE)"
   ]
  },
  {
   "cell_type": "markdown",
   "id": "fb12de29",
   "metadata": {},
   "source": [
    "###### Dirs"
   ]
  },
  {
   "cell_type": "code",
   "execution_count": 6,
   "id": "3f6382f9",
   "metadata": {},
   "outputs": [],
   "source": [
    "train_dir = \"C:\\\\Users\\\\georg\\\\Desktop\\\\inmind-material\\\\Week-6\\\\Session-1\\\\train\"\n",
    "mask_dir = \"C:\\\\Users\\\\georg\\\\Desktop\\\\inmind-material\\\\Week-6\\\\Session-1\\\\train_masks\""
   ]
  },
  {
   "cell_type": "markdown",
   "id": "a488a13d",
   "metadata": {},
   "source": [
    "###### Data Transform Function"
   ]
  },
  {
   "cell_type": "code",
   "execution_count": 7,
   "id": "0d92f40d",
   "metadata": {},
   "outputs": [],
   "source": [
    "transform = A.Compose(\n",
    "    [\n",
    "        A.Resize(height=IMAGE_HEIGHT, width=IMAGE_WIDTH),\n",
    "        A.Rotate(limit=35, p=1.0),\n",
    "        A.HorizontalFlip(p=0.5),\n",
    "        A.VerticalFlip(p=0.1),\n",
    "        A.Normalize(\n",
    "            mean=[0.0, 0.0, 0.0],\n",
    "            std=[1.0, 1.0, 1.0],\n",
    "            max_pixel_value=255.0,\n",
    "        ),\n",
    "        ToTensorV2(),\n",
    "    ]\n",
    ")"
   ]
  },
  {
   "cell_type": "markdown",
   "id": "7c8125cc",
   "metadata": {},
   "source": [
    "###### Train"
   ]
  },
  {
   "cell_type": "code",
   "execution_count": 8,
   "id": "369d369a",
   "metadata": {},
   "outputs": [],
   "source": [
    "def train_fn(loader, model, optimizer, loss_fn, epoch, num_epochs):\n",
    "    \n",
    "    loop = tqdm(loader,total=len(loader)) #leave=false\n",
    "    \n",
    "    for (data, targets) in loop:\n",
    "        data = data.to(device=DEVICE)\n",
    "        targets = targets.float().unsqueeze(1).to(device=DEVICE)\n",
    "\n",
    "        # forward pass\n",
    "        predictions = model.forward(data)\n",
    "        loss = loss_fn(predictions, targets)\n",
    "\n",
    "        # backward pass\n",
    "        optimizer.zero_grad()\n",
    "        loss.backward()\n",
    "        optimizer.step()\n",
    "        \n",
    "        # update tqdm loop\n",
    "        loop.set_description(f\"Epoch [{epoch+1}/{num_epochs}]\")\n",
    "        loop.set_postfix(loss=loss.item())"
   ]
  },
  {
   "cell_type": "code",
   "execution_count": 9,
   "id": "f9e5e9c9",
   "metadata": {},
   "outputs": [],
   "source": [
    "model = UNET(in_channels=3, out_channels=1).to(DEVICE)"
   ]
  },
  {
   "cell_type": "code",
   "execution_count": 10,
   "id": "5e60c334",
   "metadata": {},
   "outputs": [],
   "source": [
    "loss_fn = nn.BCEWithLogitsLoss()\n",
    "optimizer = optim.Adam(model.parameters(), lr=LEARNING_RATE)"
   ]
  },
  {
   "cell_type": "code",
   "execution_count": 11,
   "id": "acdfd607",
   "metadata": {},
   "outputs": [],
   "source": [
    "train_loader, val_loader = get_loaders( \n",
    "    train_dir,\n",
    "    mask_dir,\n",
    "    BATCH_SIZE,\n",
    "    transform,\n",
    ")"
   ]
  },
  {
   "cell_type": "code",
   "execution_count": 12,
   "id": "e5f07652",
   "metadata": {},
   "outputs": [],
   "source": [
    "if LOAD_MODEL:\n",
    "    load_checkpoint(torch.load('my_checkpoint.pth.tar'), model)\n",
    "    check_accuracy(val_loader, model, device=DEVICE)"
   ]
  },
  {
   "cell_type": "code",
   "execution_count": 13,
   "id": "92d07ee0",
   "metadata": {
    "scrolled": true
   },
   "outputs": [
    {
     "data": {
      "application/vnd.jupyter.widget-view+json": {
       "model_id": "e890c85c0d92482189eb2357c096fd18",
       "version_major": 2,
       "version_minor": 0
      },
      "text/plain": [
       "  0%|          | 0/255 [00:00<?, ?it/s]"
      ]
     },
     "metadata": {},
     "output_type": "display_data"
    },
    {
     "name": "stdout",
     "output_type": "stream",
     "text": [
      "epoch one done\n",
      "=> Saving checkpoint\n",
      "Got 38641070/39091200 with acc 98.85\n",
      "Dice score: 0.9725877642631531\n"
     ]
    },
    {
     "data": {
      "application/vnd.jupyter.widget-view+json": {
       "model_id": "26033ab8d40d410a85faf1f145837e38",
       "version_major": 2,
       "version_minor": 0
      },
      "text/plain": [
       "  0%|          | 0/255 [00:00<?, ?it/s]"
      ]
     },
     "metadata": {},
     "output_type": "display_data"
    },
    {
     "name": "stdout",
     "output_type": "stream",
     "text": [
      "epoch one done\n",
      "=> Saving checkpoint\n",
      "Got 38563232/39091200 with acc 98.65\n",
      "Dice score: 0.9687594771385193\n"
     ]
    },
    {
     "data": {
      "application/vnd.jupyter.widget-view+json": {
       "model_id": "a10cbc57041143ad81c9f0e7a4bc118b",
       "version_major": 2,
       "version_minor": 0
      },
      "text/plain": [
       "  0%|          | 0/255 [00:00<?, ?it/s]"
      ]
     },
     "metadata": {},
     "output_type": "display_data"
    },
    {
     "name": "stdout",
     "output_type": "stream",
     "text": [
      "epoch one done\n",
      "=> Saving checkpoint\n",
      "Got 38755439/39091200 with acc 99.14\n",
      "Dice score: 0.9798970222473145\n"
     ]
    },
    {
     "data": {
      "application/vnd.jupyter.widget-view+json": {
       "model_id": "e52bc24fa6b04c078b6e758bf9084b2a",
       "version_major": 2,
       "version_minor": 0
      },
      "text/plain": [
       "  0%|          | 0/255 [00:00<?, ?it/s]"
      ]
     },
     "metadata": {},
     "output_type": "display_data"
    },
    {
     "name": "stdout",
     "output_type": "stream",
     "text": [
      "epoch one done\n",
      "=> Saving checkpoint\n",
      "Got 38798224/39091200 with acc 99.25\n",
      "Dice score: 0.9823131561279297\n"
     ]
    },
    {
     "data": {
      "application/vnd.jupyter.widget-view+json": {
       "model_id": "fff097a56b9d4f34a392b9d82540d46a",
       "version_major": 2,
       "version_minor": 0
      },
      "text/plain": [
       "  0%|          | 0/255 [00:00<?, ?it/s]"
      ]
     },
     "metadata": {},
     "output_type": "display_data"
    },
    {
     "name": "stdout",
     "output_type": "stream",
     "text": [
      "epoch one done\n",
      "=> Saving checkpoint\n",
      "Got 38824450/39091200 with acc 99.32\n",
      "Dice score: 0.9839661717414856\n"
     ]
    },
    {
     "data": {
      "application/vnd.jupyter.widget-view+json": {
       "model_id": "c0c8820493bc4adc82ca2ce78be5c637",
       "version_major": 2,
       "version_minor": 0
      },
      "text/plain": [
       "  0%|          | 0/255 [00:00<?, ?it/s]"
      ]
     },
     "metadata": {},
     "output_type": "display_data"
    },
    {
     "name": "stdout",
     "output_type": "stream",
     "text": [
      "epoch one done\n",
      "=> Saving checkpoint\n",
      "Got 38616262/39091200 with acc 98.79\n",
      "Dice score: 0.9716569781303406\n"
     ]
    },
    {
     "data": {
      "application/vnd.jupyter.widget-view+json": {
       "model_id": "af1a3071e3fa4217b36d038d8b7f28e4",
       "version_major": 2,
       "version_minor": 0
      },
      "text/plain": [
       "  0%|          | 0/255 [00:00<?, ?it/s]"
      ]
     },
     "metadata": {},
     "output_type": "display_data"
    },
    {
     "name": "stdout",
     "output_type": "stream",
     "text": [
      "epoch one done\n",
      "=> Saving checkpoint\n",
      "Got 38832417/39091200 with acc 99.34\n",
      "Dice score: 0.9843029975891113\n"
     ]
    },
    {
     "data": {
      "application/vnd.jupyter.widget-view+json": {
       "model_id": "9511c19bbfca4abe8bc43107c2326a46",
       "version_major": 2,
       "version_minor": 0
      },
      "text/plain": [
       "  0%|          | 0/255 [00:00<?, ?it/s]"
      ]
     },
     "metadata": {},
     "output_type": "display_data"
    },
    {
     "name": "stdout",
     "output_type": "stream",
     "text": [
      "epoch one done\n",
      "=> Saving checkpoint\n",
      "Got 38779642/39091200 with acc 99.20\n",
      "Dice score: 0.9811540246009827\n"
     ]
    },
    {
     "data": {
      "application/vnd.jupyter.widget-view+json": {
       "model_id": "a5714efa0a5f44b3b03e2596df7e8f9d",
       "version_major": 2,
       "version_minor": 0
      },
      "text/plain": [
       "  0%|          | 0/255 [00:00<?, ?it/s]"
      ]
     },
     "metadata": {},
     "output_type": "display_data"
    },
    {
     "name": "stdout",
     "output_type": "stream",
     "text": [
      "epoch one done\n",
      "=> Saving checkpoint\n",
      "Got 38854301/39091200 with acc 99.39\n",
      "Dice score: 0.9857268929481506\n"
     ]
    },
    {
     "data": {
      "application/vnd.jupyter.widget-view+json": {
       "model_id": "19f4a971f5244dff97f5181ffbb3f91b",
       "version_major": 2,
       "version_minor": 0
      },
      "text/plain": [
       "  0%|          | 0/255 [00:00<?, ?it/s]"
      ]
     },
     "metadata": {},
     "output_type": "display_data"
    },
    {
     "name": "stdout",
     "output_type": "stream",
     "text": [
      "epoch one done\n",
      "=> Saving checkpoint\n",
      "Got 38860937/39091200 with acc 99.41\n",
      "Dice score: 0.9860703945159912\n"
     ]
    },
    {
     "data": {
      "application/vnd.jupyter.widget-view+json": {
       "model_id": "97b0fc3009d94c4eb6843e9ef0ab9127",
       "version_major": 2,
       "version_minor": 0
      },
      "text/plain": [
       "  0%|          | 0/255 [00:00<?, ?it/s]"
      ]
     },
     "metadata": {},
     "output_type": "display_data"
    },
    {
     "name": "stdout",
     "output_type": "stream",
     "text": [
      "epoch one done\n",
      "=> Saving checkpoint\n",
      "Got 38862875/39091200 with acc 99.42\n",
      "Dice score: 0.9862521886825562\n"
     ]
    },
    {
     "data": {
      "application/vnd.jupyter.widget-view+json": {
       "model_id": "37fefa0aa5614850bcdbd685197f1167",
       "version_major": 2,
       "version_minor": 0
      },
      "text/plain": [
       "  0%|          | 0/255 [00:00<?, ?it/s]"
      ]
     },
     "metadata": {},
     "output_type": "display_data"
    },
    {
     "name": "stdout",
     "output_type": "stream",
     "text": [
      "epoch one done\n",
      "=> Saving checkpoint\n",
      "Got 38861188/39091200 with acc 99.41\n",
      "Dice score: 0.9861713647842407\n"
     ]
    },
    {
     "data": {
      "application/vnd.jupyter.widget-view+json": {
       "model_id": "3a611b9f50014def881175623d9ab19e",
       "version_major": 2,
       "version_minor": 0
      },
      "text/plain": [
       "  0%|          | 0/255 [00:00<?, ?it/s]"
      ]
     },
     "metadata": {},
     "output_type": "display_data"
    },
    {
     "name": "stdout",
     "output_type": "stream",
     "text": [
      "epoch one done\n",
      "=> Saving checkpoint\n",
      "Got 38877535/39091200 with acc 99.45\n",
      "Dice score: 0.9870994687080383\n"
     ]
    },
    {
     "data": {
      "application/vnd.jupyter.widget-view+json": {
       "model_id": "0d6b6f30ac80496e8cacfd93bf88a987",
       "version_major": 2,
       "version_minor": 0
      },
      "text/plain": [
       "  0%|          | 0/255 [00:00<?, ?it/s]"
      ]
     },
     "metadata": {},
     "output_type": "display_data"
    },
    {
     "name": "stdout",
     "output_type": "stream",
     "text": [
      "epoch one done\n",
      "=> Saving checkpoint\n",
      "Got 38865218/39091200 with acc 99.42\n",
      "Dice score: 0.9863752126693726\n"
     ]
    },
    {
     "data": {
      "application/vnd.jupyter.widget-view+json": {
       "model_id": "05a9493878eb491fbf8f133f437bea73",
       "version_major": 2,
       "version_minor": 0
      },
      "text/plain": [
       "  0%|          | 0/255 [00:00<?, ?it/s]"
      ]
     },
     "metadata": {},
     "output_type": "display_data"
    },
    {
     "name": "stdout",
     "output_type": "stream",
     "text": [
      "epoch one done\n",
      "=> Saving checkpoint\n",
      "Got 38881273/39091200 with acc 99.46\n",
      "Dice score: 0.9873620271682739\n"
     ]
    }
   ],
   "source": [
    "Accuracy=[]\n",
    "DiceScores = []\n",
    "for epoch in range(NUM_EPOCHS):\n",
    "    \n",
    "    train_fn(train_loader, model, optimizer, loss_fn, epoch, NUM_EPOCHS)\n",
    "    print(\"epoch one done\")\n",
    "\n",
    "    # save model\n",
    "    checkpoint = {'state_dict': model.state_dict(),'optimizer': optimizer.state_dict()}\n",
    "    save_checkpoint(checkpoint)\n",
    "\n",
    "    # check accuracy\n",
    "    acc, dice_score = check_accuracy(val_loader, model, device=DEVICE)\n",
    "    \n",
    "    Accuracy.append(acc)\n",
    "    DiceScores.append(dice_score)\n",
    "    "
   ]
  },
  {
   "cell_type": "code",
   "execution_count": null,
   "id": "f7c478c5",
   "metadata": {},
   "outputs": [],
   "source": []
  }
 ],
 "metadata": {
  "kernelspec": {
   "display_name": "Python 3 (ipykernel)",
   "language": "python",
   "name": "python3"
  },
  "language_info": {
   "codemirror_mode": {
    "name": "ipython",
    "version": 3
   },
   "file_extension": ".py",
   "mimetype": "text/x-python",
   "name": "python",
   "nbconvert_exporter": "python",
   "pygments_lexer": "ipython3",
   "version": "3.11.9"
  }
 },
 "nbformat": 4,
 "nbformat_minor": 5
}

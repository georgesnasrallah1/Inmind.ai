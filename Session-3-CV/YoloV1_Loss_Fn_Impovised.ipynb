{
 "cells": [
  {
   "cell_type": "code",
   "execution_count": 3,
   "id": "9e2964d5",
   "metadata": {},
   "outputs": [],
   "source": [
    "import torch\n",
    "import torch.nn as nn"
   ]
  },
  {
   "cell_type": "markdown",
   "id": "d2ccd23c",
   "metadata": {},
   "source": [
    "### Intersection over union (IoU) for yolo coordinates"
   ]
  },
  {
   "cell_type": "code",
   "execution_count": 53,
   "id": "d9e7779c",
   "metadata": {},
   "outputs": [],
   "source": [
    "def intersection_over_union(boxes_preds,boxes_labels,img_w,img_h):\n",
    "    \n",
    "    b1_x1 = (boxes_preds[..., 0:1] - boxes_preds[..., 2:3] / 2)*img_w\n",
    "    b1_y1 = (boxes_preds[..., 1:2] - boxes_preds[..., 3:4] / 2)*img_h\n",
    "    b1_x2 = (boxes_preds[..., 0:1] + boxes_preds[..., 2:3] / 2)*img_w\n",
    "    b1_y2 = (boxes_preds[..., 1:2] + boxes_preds[..., 3:4] / 2)*img_h\n",
    "    \n",
    "    b2_x1 = (boxes_labels[..., 0:1] - boxes_labels[..., 2:3] / 2)*img_w\n",
    "    b2_y1 = (boxes_labels[..., 1:2] - boxes_labels[..., 3:4] / 2)*img_h\n",
    "    b2_x2 = (boxes_labels[..., 0:1] + boxes_labels[..., 2:3] / 2)*img_w\n",
    "    b2_y2 = (boxes_labels[..., 1:2] + boxes_labels[..., 3:4] / 2)*img_h\n",
    "    \n",
    "    x1 = torch.max(b1_x1, b2_x1)\n",
    "    y1 = torch.max(b1_y1, b2_y1)\n",
    "    x2 = torch.min(b1_x2, b2_x2)\n",
    "    y2 = torch.min(b1_y2, b2_y2)\n",
    "    \n",
    "    intersection = ((x2 - x1).clamp(0) * (y2 - y1).clamp(0))\n",
    "    \n",
    "    box1_area = abs((b1_x2 - b1_x1) * (b1_y2 - b1_y1))\n",
    "    box2_area = abs((b2_x2 - b2_x1) * (b2_y2 - b2_y1))\n",
    "\n",
    "    return intersection / (box1_area + box2_area - intersection)"
   ]
  },
  {
   "cell_type": "code",
   "execution_count": 54,
   "id": "d5c05d90",
   "metadata": {},
   "outputs": [],
   "source": [
    "class YoloLoss(nn.Module):\n",
    "        def __init__(self, S=7, B=2, C=20):\n",
    "            super(YoloLoss, self).__init__()\n",
    "        \n",
    "            self.mse = nn.MSELoss(reduction=\"sum\")\n",
    "\n",
    "            self.S = S\n",
    "            self.B = B\n",
    "            self.C = C\n",
    "\n",
    "            self.lambda_noobj = 0.5\n",
    "            self.lambda_coord = 5\n",
    "        \n",
    "        def forward(self, predictions, target):\n",
    "            \n",
    "            predictions = predictions.view(self.S * self.S,self.B*5 + self.C)\n",
    "            \n",
    "            iou_b1 = intersection_over_union(predictions[..., 21:25], target[..., 21:25],448,448)\n",
    "            iou_b2 = intersection_over_union(predictions[..., 26:30], target[..., 21:25])\n",
    "            ious = torch.cat([iou_b1.unsqueeze(0), iou_b2.unsqueeze(0)], dim=0)\n",
    "            \n",
    "            iou_maxes, bestbox = torch.max(ious, dim=0)\n",
    "            exists_box = target[..., 20:21]\n",
    "            \n",
    "            box_predictions = exists_box * ((bestbox * predictions[..., 26:30]+ (1 - bestbox) * predictions[..., 21:25]))\n",
    "            box_targets = exists_box * target[..., 21:25]\n",
    "            \n",
    "            box_predictions[..., 2:4] = torch.sign(box_predictions[..., 2:4]) * torch.sqrt(\n",
    "            torch.abs(box_predictions[..., 2:4] + 1e-6))\n",
    "            \n",
    "            box_targets[..., 2:4] = torch.sqrt(box_targets[..., 2:4])\n",
    "            \n",
    "            box_loss = self.mse((box_predictions),(box_targets))\n",
    "            \n",
    "            pred_box = (bestbox * predictions[..., 25:26] + (1 - bestbox) * predictions[..., 20:21])\n",
    "            \n",
    "            object_loss = self.mse((exists_box * pred_box),(exists_box * target[..., 20:21]))\n",
    "            \n",
    "            no_object_loss = self.mse(((1 - exists_box) * predictions[..., 20:21]),((1 - exists_box) * target[..., 20:21]))\n",
    "        \n",
    "            no_object_loss += self.mse(((1 - exists_box) * predictions[..., 25:26]),((1 - exists_box) * target[..., 20:21]))\n",
    "        \n",
    "            class_loss = self.mse((exists_box * predictions[..., :20]),(exists_box * target[..., :20]))\n",
    "            \n",
    "            loss = (\n",
    "            self.lambda_coord * box_loss  # first two rows in paper\n",
    "            + object_loss  # third row in paper\n",
    "            + self.lambda_noobj * no_object_loss  # forth row\n",
    "            + class_loss  # fifth row\n",
    "            )\n",
    "            \n",
    "            return loss     "
   ]
  },
  {
   "cell_type": "code",
   "execution_count": 60,
   "id": "baf3dc09",
   "metadata": {},
   "outputs": [],
   "source": [
    "yolo_pred=torch.rand(7*7,30)"
   ]
  },
  {
   "cell_type": "code",
   "execution_count": 61,
   "id": "9dbbee2d",
   "metadata": {},
   "outputs": [],
   "source": [
    "yolo_target=torch.rand(7*7,25)"
   ]
  },
  {
   "cell_type": "code",
   "execution_count": 67,
   "id": "4d07f4fb",
   "metadata": {},
   "outputs": [],
   "source": [
    "loss_tens=YoloLoss().forward(yolo_pred,yolo_target)"
   ]
  },
  {
   "cell_type": "code",
   "execution_count": 68,
   "id": "1f5c96b9",
   "metadata": {},
   "outputs": [
    {
     "data": {
      "text/plain": [
       "tensor(94.2044)"
      ]
     },
     "execution_count": 68,
     "metadata": {},
     "output_type": "execute_result"
    }
   ],
   "source": [
    "loss_tens"
   ]
  },
  {
   "cell_type": "markdown",
   "id": "20fdd925",
   "metadata": {},
   "source": [
    "Loss"
   ]
  },
  {
   "cell_type": "code",
   "execution_count": null,
   "id": "76b338e5",
   "metadata": {},
   "outputs": [],
   "source": []
  }
 ],
 "metadata": {
  "kernelspec": {
   "display_name": "Python 3 (ipykernel)",
   "language": "python",
   "name": "python3"
  },
  "language_info": {
   "codemirror_mode": {
    "name": "ipython",
    "version": 3
   },
   "file_extension": ".py",
   "mimetype": "text/x-python",
   "name": "python",
   "nbconvert_exporter": "python",
   "pygments_lexer": "ipython3",
   "version": "3.11.9"
  }
 },
 "nbformat": 4,
 "nbformat_minor": 5
}

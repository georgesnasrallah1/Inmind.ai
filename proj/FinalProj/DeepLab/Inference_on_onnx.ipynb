{
 "cells": [
  {
   "cell_type": "code",
   "execution_count": 2,
   "id": "fe4ffd0f",
   "metadata": {},
   "outputs": [],
   "source": [
    "import onnxruntime as ort\n",
    "import numpy as np\n",
    "from PIL import Image"
   ]
  },
  {
   "cell_type": "code",
   "execution_count": 5,
   "id": "9dbb4807",
   "metadata": {},
   "outputs": [],
   "source": [
    "def test_onnx_model_on_single_image(model_path, image_path, color_map, device='cpu'):\n",
    "    # Load the ONNX model\n",
    "    session = ort.InferenceSession(model_path)\n",
    "    \n",
    "    # Get the input and output names for the ONNX model\n",
    "    input_name = session.get_inputs()[0].name\n",
    "    output_name = session.get_outputs()[0].name\n",
    "\n",
    "    # Load and preprocess the image\n",
    "    image = Image.open(image_path).convert('RGB')\n",
    "    image = np.array(image).transpose(2, 0, 1).astype(np.float32) / 255.0  # CHW format\n",
    "    image = np.expand_dims(image, axis=0)  # Add batch dimension\n",
    "\n",
    "    # Perform inference\n",
    "    outputs = session.run([output_name], {input_name: image})\n",
    "    \n",
    "    # Get the predicted class labels\n",
    "    predicted = np.argmax(outputs[0], axis=1).squeeze(0)\n",
    "\n",
    "    # Initialize an empty RGB image\n",
    "    height, width = predicted.shape\n",
    "    rgb_image = np.zeros((height, width, 3), dtype=np.uint8)\n",
    "\n",
    "    # Map each class label to the corresponding RGB value\n",
    "    for class_id, rgb_value in color_map.items():\n",
    "        rgb_image[predicted == class_id] = rgb_value\n",
    "\n",
    "    # Convert the numpy array to a PIL Image and return\n",
    "    return Image.fromarray(rgb_image)"
   ]
  },
  {
   "cell_type": "code",
   "execution_count": 6,
   "id": "6c9bd6b1",
   "metadata": {},
   "outputs": [],
   "source": [
    "# Example usage:\n",
    "color_to_class = {\n",
    "    0: (255, 197, 25),  # Forklift\n",
    "    1: (140, 255, 25),  # Rack\n",
    "    2: (140, 25, 255),  # Crate\n",
    "    3: (226, 255, 25),  # Floor\n",
    "    4: (255, 111, 25),  # Railing\n",
    "    5: (255, 25, 197),  # Pallet\n",
    "    6: (54, 255, 25),   # Stillage\n",
    "    7: (25, 255, 82),   # iwhub\n",
    "    8: (25, 82, 255),   # Dolly\n",
    "    9: (0, 0, 0)        # Background\n",
    "}"
   ]
  },
  {
   "cell_type": "code",
   "execution_count": 7,
   "id": "6387a1aa",
   "metadata": {},
   "outputs": [],
   "source": [
    "onnx_model_path = \"onnx/deeplab_model.onnx\"\n",
    "image_path = \"rgb_0201.png\"\n",
    "\n",
    "output_image = test_onnx_model_on_single_image(onnx_model_path, image_path, color_to_class)\n",
    "output_image.show()  # Display the image\n",
    "output_image.save('C:\\\\Users\\\\georg\\\\Desktop\\\\test\\\\test12.png')  # Save the image"
   ]
  },
  {
   "cell_type": "code",
   "execution_count": null,
   "id": "75916db5",
   "metadata": {},
   "outputs": [],
   "source": []
  }
 ],
 "metadata": {
  "kernelspec": {
   "display_name": "Python 3 (ipykernel)",
   "language": "python",
   "name": "python3"
  },
  "language_info": {
   "codemirror_mode": {
    "name": "ipython",
    "version": 3
   },
   "file_extension": ".py",
   "mimetype": "text/x-python",
   "name": "python",
   "nbconvert_exporter": "python",
   "pygments_lexer": "ipython3",
   "version": "3.11.9"
  }
 },
 "nbformat": 4,
 "nbformat_minor": 5
}

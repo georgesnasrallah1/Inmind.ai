{
 "cells": [
  {
   "cell_type": "markdown",
   "id": "a5bb2cf1",
   "metadata": {},
   "source": [
    "#### For Images"
   ]
  },
  {
   "cell_type": "code",
   "execution_count": 5,
   "id": "df678e55",
   "metadata": {},
   "outputs": [
    {
     "name": "stdout",
     "output_type": "stream",
     "text": [
      "Renaming completed.\n"
     ]
    }
   ],
   "source": [
    "import os\n",
    "\n",
    "image_dir = 'C:\\\\Users\\\\georg\\\\Desktop\\\\Yolo_data\\\\Test\\\\Test_images'  \n",
    "\n",
    "# Loop over all files in the directory\n",
    "for filename in os.listdir(image_dir):\n",
    "    if filename.startswith(\"rgb_\") and filename.endswith(\".png\"):\n",
    "        # Extract the 4 digits from the filename\n",
    "        new_name = filename.replace(\"rgb_\", \"\")\n",
    "        \n",
    "        # Full path to the old and new file\n",
    "        old_path = os.path.join(image_dir, filename)\n",
    "        new_path = os.path.join(image_dir, new_name)\n",
    "        \n",
    "        # Rename the file\n",
    "        os.rename(old_path, new_path)\n",
    "\n",
    "print(\"Renaming completed.\")"
   ]
  },
  {
   "cell_type": "markdown",
   "id": "ee4d33b6",
   "metadata": {},
   "source": [
    "#### For labels"
   ]
  },
  {
   "cell_type": "code",
   "execution_count": 6,
   "id": "3a0e3d63",
   "metadata": {},
   "outputs": [
    {
     "name": "stdout",
     "output_type": "stream",
     "text": [
      "Renaming completed.\n"
     ]
    }
   ],
   "source": [
    "import os\n",
    "\n",
    "# Directory containing the text files\n",
    "txt_dir = 'C:\\\\Users\\\\georg\\\\Desktop\\\\Yolo_data\\\\Test\\\\Test_bbxs'  # Replace with the path to your txt folder\n",
    "\n",
    "# Loop over all files in the directory\n",
    "for filename in os.listdir(txt_dir):\n",
    "    if filename.startswith(\"bounding_box_2d_tight_\") and filename.endswith(\".txt\"):\n",
    "        # Extract the 4 digits from the filename\n",
    "        new_name = filename.replace(\"bounding_box_2d_tight_\", \"\")\n",
    "        \n",
    "        # Full path to the old and new file\n",
    "        old_path = os.path.join(txt_dir, filename)\n",
    "        new_path = os.path.join(txt_dir, new_name)\n",
    "        \n",
    "        # Rename the file\n",
    "        os.rename(old_path, new_path)\n",
    "\n",
    "print(\"Renaming completed.\")\n"
   ]
  },
  {
   "cell_type": "code",
   "execution_count": null,
   "id": "344e2697",
   "metadata": {},
   "outputs": [],
   "source": []
  }
 ],
 "metadata": {
  "kernelspec": {
   "display_name": "Python 3 (ipykernel)",
   "language": "python",
   "name": "python3"
  },
  "language_info": {
   "codemirror_mode": {
    "name": "ipython",
    "version": 3
   },
   "file_extension": ".py",
   "mimetype": "text/x-python",
   "name": "python",
   "nbconvert_exporter": "python",
   "pygments_lexer": "ipython3",
   "version": "3.11.9"
  }
 },
 "nbformat": 4,
 "nbformat_minor": 5
}

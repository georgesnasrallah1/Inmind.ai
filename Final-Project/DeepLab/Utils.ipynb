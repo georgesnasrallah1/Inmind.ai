{
 "cells": [
  {
   "cell_type": "code",
   "execution_count": 1,
   "id": "eb044a65",
   "metadata": {},
   "outputs": [],
   "source": [
    "from importnb import Notebook\n",
    "\n",
    "with Notebook():\n",
    "    from DataClass import DataSet"
   ]
  },
  {
   "cell_type": "code",
   "execution_count": 2,
   "id": "2bf31009",
   "metadata": {},
   "outputs": [],
   "source": [
    "import torch\n",
    "import torchvision\n",
    "import torch.nn as nn\n",
    "from torch.utils.data import DataLoader"
   ]
  },
  {
   "cell_type": "code",
   "execution_count": 3,
   "id": "9f22fa83",
   "metadata": {},
   "outputs": [],
   "source": [
    "def save_checkpoint(state, filename=\"my_checkpoint.pth.tar\"):\n",
    "    print(\"=> Saving checkpoint\")\n",
    "    torch.save(state, filename)"
   ]
  },
  {
   "cell_type": "code",
   "execution_count": 4,
   "id": "29dfbb30",
   "metadata": {},
   "outputs": [],
   "source": [
    "def load_checkpoint(checkpoint, model):\n",
    "    print(\"=> Loading checkpoint\")\n",
    "    model.load_state_dict(checkpoint[\"state_dict\"])"
   ]
  },
  {
   "cell_type": "code",
   "execution_count": 5,
   "id": "a0813571",
   "metadata": {},
   "outputs": [],
   "source": [
    "def get_data_loaders(\n",
    "        train_dir, train_mask_dir, val_dir, val_maskdir, batch_size,\n",
    "        train_transform, val_transform):\n",
    "\n",
    "    train_ds = DataSet(\n",
    "        image_dir=train_dir, mask_dir=train_mask_dir,\n",
    "        transform=train_transform)\n",
    "\n",
    "    train_loader = DataLoader(\n",
    "        train_ds,\n",
    "        batch_size=batch_size,\n",
    "        shuffle=True)\n",
    "\n",
    "    val_ds = DataSet(\n",
    "        image_dir=val_dir,\n",
    "        mask_dir=val_maskdir,\n",
    "        transform=val_transform,\n",
    "    )\n",
    "\n",
    "    val_loader = DataLoader(\n",
    "        val_ds,\n",
    "        batch_size=batch_size,\n",
    "        shuffle=False)\n",
    "\n",
    "    return train_loader, val_loader"
   ]
  },
  {
   "cell_type": "code",
   "execution_count": 6,
   "id": "61c51225",
   "metadata": {},
   "outputs": [],
   "source": [
    "def calculate_epoch_accuracy(model, data_loader, device):\n",
    "    \n",
    "    model.eval()  # Set the model to evaluation mode\n",
    "    correct_pixels = 0\n",
    "    total_pixels = 0\n",
    "\n",
    "    with torch.no_grad():  # Disable gradient calculation for validation/testing\n",
    "        for data, targets in data_loader:\n",
    "            data = data.to(device)\n",
    "            targets = targets.to(device)\n",
    "\n",
    "            predictions = model(data)  # Get model predictions\n",
    "\n",
    "            # Apply argmax to get the predicted class per pixel\n",
    "            preds = torch.argmax(predictions, dim=1)  # [batch_size, height, width]\n",
    "\n",
    "            # Calculate the number of correct pixels\n",
    "            correct_pixels += (preds == targets).sum().item()\n",
    "\n",
    "            # Calculate the total number of pixels\n",
    "            total_pixels += torch.numel(preds)\n",
    "\n",
    "    # Calculate the overall accuracy for the epoch\n",
    "    epoch_accuracy = correct_pixels / total_pixels\n",
    "    \n",
    "    model.train()\n",
    "\n",
    "    return epoch_accuracy\n"
   ]
  },
  {
   "cell_type": "code",
   "execution_count": 7,
   "id": "b411c58d",
   "metadata": {},
   "outputs": [],
   "source": [
    "def calculate_validation_loss(model, data_loader, loss_fn, device):\n",
    "    model.eval()  # Set the model to evaluation mode\n",
    "    total_loss = 0.0\n",
    "    num_batches = 0\n",
    "\n",
    "    with torch.no_grad():  # Disable gradient calculation for validation\n",
    "        for data, targets in data_loader:\n",
    "            data = data.to(device)\n",
    "            targets = targets.long().to(device)\n",
    "\n",
    "            predictions = model(data)  # Get model predictions\n",
    "            loss = loss_fn(predictions, targets)  # Calculate the loss\n",
    "\n",
    "            total_loss += loss.item()\n",
    "            num_batches += 1\n",
    "\n",
    "    avg_loss = total_loss / num_batches  # Compute the average loss\n",
    "    \n",
    "    model.train()\n",
    "\n",
    "    return avg_loss\n"
   ]
  },
  {
   "cell_type": "code",
   "execution_count": 5,
   "id": "96f87d43",
   "metadata": {},
   "outputs": [],
   "source": [
    "def calculate_miou(model, data_loader, device, num_classes):\n",
    "    model.eval()  # Set the model to evaluation mode\n",
    "    iou_sum = 0.0\n",
    "    num_samples = 0\n",
    "\n",
    "    with torch.no_grad():  # Disable gradient calculation for validation/testing\n",
    "        for data, targets in data_loader:\n",
    "            data = data.to(device)\n",
    "            targets = targets.to(device)\n",
    "\n",
    "            predictions = model(data)  # Get model predictions\n",
    "            preds = torch.argmax(predictions, dim=1)  # [batch_size, height, width]\n",
    "\n",
    "            for cls in range(num_classes):\n",
    "                intersection = torch.logical_and(targets == cls, preds == cls).sum().item()\n",
    "                union = torch.logical_or(targets == cls, preds == cls).sum().item()\n",
    "\n",
    "                if union == 0:\n",
    "                    iou = 1.0  # If there's no union, the IoU for this class is 1.0 (perfect match)\n",
    "                else:\n",
    "                    iou = intersection / union\n",
    "\n",
    "                iou_sum += iou\n",
    "\n",
    "            num_samples += 1\n",
    "\n",
    "    # Calculate mean IoU over all classes and samples\n",
    "    miou = iou_sum / (num_samples * num_classes)\n",
    "    \n",
    "    model.train()  # Set the model back to training mode\n",
    "\n",
    "    return miou\n"
   ]
  },
  {
   "cell_type": "code",
   "execution_count": null,
   "id": "ea67b0c8",
   "metadata": {},
   "outputs": [],
   "source": []
  }
 ],
 "metadata": {
  "kernelspec": {
   "display_name": "Python 3 (ipykernel)",
   "language": "python",
   "name": "python3"
  },
  "language_info": {
   "codemirror_mode": {
    "name": "ipython",
    "version": 3
   },
   "file_extension": ".py",
   "mimetype": "text/x-python",
   "name": "python",
   "nbconvert_exporter": "python",
   "pygments_lexer": "ipython3",
   "version": "3.11.9"
  }
 },
 "nbformat": 4,
 "nbformat_minor": 5
}

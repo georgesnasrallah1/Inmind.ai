{
 "cells": [
  {
   "cell_type": "code",
   "execution_count": 29,
   "id": "92e1bd2f",
   "metadata": {},
   "outputs": [],
   "source": [
    "import open3d as o3d\n",
    "import numpy as np\n",
    "import matplotlib.pyplot as plt"
   ]
  },
  {
   "cell_type": "code",
   "execution_count": 2,
   "id": "801d6879",
   "metadata": {},
   "outputs": [],
   "source": [
    "file_path = \"C:\\\\Users\\\\georg\\\\Desktop\\\\inmind-material\\\\pointclouds\\\\1.ply\""
   ]
  },
  {
   "cell_type": "code",
   "execution_count": 3,
   "id": "161072f1",
   "metadata": {},
   "outputs": [],
   "source": [
    "# Load the point cloud\n",
    "point_cloud = o3d.io.read_point_cloud(file_path)"
   ]
  },
  {
   "cell_type": "code",
   "execution_count": 24,
   "id": "7b9ac791",
   "metadata": {},
   "outputs": [],
   "source": [
    "o3d.visualization.draw_geometries([point_cloud])"
   ]
  },
  {
   "cell_type": "code",
   "execution_count": 9,
   "id": "023dfe75",
   "metadata": {},
   "outputs": [],
   "source": [
    "points = np.asarray(point_cloud.points)"
   ]
  },
  {
   "cell_type": "code",
   "execution_count": 11,
   "id": "0b371621",
   "metadata": {},
   "outputs": [],
   "source": [
    "min_values = points.min(axis=0)\n",
    "\n",
    "# Compute the maximum values for x, y, and z\n",
    "max_values = points.max(axis=0)\n",
    "\n",
    "# Extract the individual minimum and maximum values\n",
    "min_x, min_y, min_z = min_values\n",
    "max_x, max_y, max_z = max_values"
   ]
  },
  {
   "cell_type": "code",
   "execution_count": 13,
   "id": "47690d1e",
   "metadata": {},
   "outputs": [
    {
     "data": {
      "text/plain": [
       "(168736, 3)"
      ]
     },
     "execution_count": 13,
     "metadata": {},
     "output_type": "execute_result"
    }
   ],
   "source": [
    "points.shape"
   ]
  },
  {
   "cell_type": "code",
   "execution_count": 12,
   "id": "d9582d41",
   "metadata": {},
   "outputs": [
    {
     "name": "stdout",
     "output_type": "stream",
     "text": [
      "Min x:-360.79576735251544, y:-559.1286548216951, z:-66.35272615214186\n"
     ]
    }
   ],
   "source": [
    "print(f\"Min x:{min_x}, y:{min_y}, z:{min_z}\")"
   ]
  },
  {
   "cell_type": "code",
   "execution_count": 15,
   "id": "96331a42",
   "metadata": {},
   "outputs": [
    {
     "name": "stdout",
     "output_type": "stream",
     "text": [
      "Max x:176.20423264748456, y:356.67134517830505, z:234.14727384785817\n"
     ]
    }
   ],
   "source": [
    "print(f\"Max x:{max_x}, y:{max_y}, z:{max_z}\")"
   ]
  },
  {
   "cell_type": "markdown",
   "id": "2c7ba7de",
   "metadata": {},
   "source": [
    "### Color Manipualtion"
   ]
  },
  {
   "cell_type": "code",
   "execution_count": 16,
   "id": "932a3c35",
   "metadata": {},
   "outputs": [],
   "source": [
    "colors = np.asarray(point_cloud.colors)"
   ]
  },
  {
   "cell_type": "code",
   "execution_count": 17,
   "id": "41fd6f39",
   "metadata": {},
   "outputs": [
    {
     "data": {
      "text/plain": [
       "(168736, 3)"
      ]
     },
     "execution_count": 17,
     "metadata": {},
     "output_type": "execute_result"
    }
   ],
   "source": [
    "colors.shape"
   ]
  },
  {
   "cell_type": "code",
   "execution_count": 18,
   "id": "59217934",
   "metadata": {},
   "outputs": [],
   "source": [
    "Cx , Cy, Cz = ((max_x+min_x)/2,(max_y+min_y)/2,(max_z+min_z)/2)"
   ]
  },
  {
   "cell_type": "code",
   "execution_count": null,
   "id": "a7d9deef",
   "metadata": {},
   "outputs": [],
   "source": []
  },
  {
   "cell_type": "code",
   "execution_count": 32,
   "id": "8daa0341",
   "metadata": {},
   "outputs": [],
   "source": [
    "pcd = o3d.io.read_point_cloud(\"C:\\\\Users\\\\georg\\\\Desktop\\\\inmind-material\\\\pointclouds\\\\1.ply\")\n",
    "\n",
    "points = np.asarray(pcd.points)\n",
    "\n",
    "# Step 3: Calculate the center of the point cloud (centroid)\n",
    "center = points.mean(axis=0)\n",
    "\n",
    "# Step 4: Compute the Euclidean distance of each point from the center\n",
    "distances = np.linalg.norm(points - center, axis=1)\n",
    "\n",
    "# Step 5: Normalize distances to the range [0, 1]\n",
    "min_dist = distances.min()\n",
    "max_dist = distances.max()\n",
    "normalized_distances = (distances - min_dist) / (max_dist - min_dist)\n",
    "\n",
    "# Step 6: Map the normalized distances to colors (e.g., closer points are brighter)\n",
    "colors = np.zeros((points.shape[0], 3))  # Initialize an array for RGB colors\n",
    "colors[:, 0] = normalized_distances  # Red channel increases with distance\n",
    "colors[:, 1] = normalized_distances  # Green channel increases with distance\n",
    "colors[:, 2] = normalized_distances  # Blue channel increases with distance\n",
    "\n",
    "# Step 7: Assign colors to the point cloud\n",
    "pcd.colors = o3d.utility.Vector3dVector(colors)\n",
    "\n",
    "# Step 8: Visualize the colored point cloud\n",
    "o3d.visualization.draw_geometries([pcd])"
   ]
  },
  {
   "cell_type": "code",
   "execution_count": null,
   "id": "fbae6e6f",
   "metadata": {},
   "outputs": [],
   "source": []
  }
 ],
 "metadata": {
  "kernelspec": {
   "display_name": "Python 3 (ipykernel)",
   "language": "python",
   "name": "python3"
  },
  "language_info": {
   "codemirror_mode": {
    "name": "ipython",
    "version": 3
   },
   "file_extension": ".py",
   "mimetype": "text/x-python",
   "name": "python",
   "nbconvert_exporter": "python",
   "pygments_lexer": "ipython3",
   "version": "3.11.9"
  }
 },
 "nbformat": 4,
 "nbformat_minor": 5
}

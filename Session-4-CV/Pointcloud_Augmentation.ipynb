{
 "cells": [
  {
   "cell_type": "code",
   "execution_count": 1,
   "id": "92f5f9bf",
   "metadata": {},
   "outputs": [
    {
     "name": "stdout",
     "output_type": "stream",
     "text": [
      "Jupyter environment detected. Enabling Open3D WebVisualizer.\n",
      "[Open3D INFO] WebRTC GUI backend enabled.\n",
      "[Open3D INFO] WebRTCWindowSystem: HTTP handshake server disabled.\n"
     ]
    }
   ],
   "source": [
    "import open3d as o3d\n",
    "import numpy as np"
   ]
  },
  {
   "cell_type": "code",
   "execution_count": 2,
   "id": "1a52550a",
   "metadata": {},
   "outputs": [],
   "source": [
    "file_path = \"C:\\\\Users\\\\georg\\\\Desktop\\\\inmind-material\\\\pointclouds\\\\1.ply\""
   ]
  },
  {
   "cell_type": "code",
   "execution_count": 3,
   "id": "1415f97d",
   "metadata": {},
   "outputs": [],
   "source": [
    "point_cloud = o3d.io.read_point_cloud(file_path)"
   ]
  },
  {
   "cell_type": "code",
   "execution_count": 14,
   "id": "c5374c40",
   "metadata": {},
   "outputs": [],
   "source": [
    "points = np.asarray(point_cloud.points)"
   ]
  },
  {
   "cell_type": "code",
   "execution_count": 27,
   "id": "8e421c3f",
   "metadata": {},
   "outputs": [],
   "source": [
    "def drop_points(pcd, drop_percentage):\n",
    "# Convert the point cloud to a numpy array\n",
    "    points = np.asarray(pcd.points)\n",
    "    colors = np.asarray(pcd.colors) if pcd.has_colors() else None\n",
    "\n",
    "    # Number of points to drop\n",
    "    num_points = len(points)\n",
    "    num_points_to_drop = int(num_points * (drop_percentage / 100.0))\n",
    "\n",
    "    # Generate random indices to drop\n",
    "    indices_to_drop = np.random.choice(num_points, num_points_to_drop, replace=False)\n",
    "\n",
    "    # Select the remaining points\n",
    "    remaining_indices = np.setdiff1d(np.arange(num_points), indices_to_drop)\n",
    "\n",
    "    # Create the new point cloud with remaining points\n",
    "    new_pcd = o3d.geometry.PointCloud()\n",
    "    new_pcd.points = o3d.utility.Vector3dVector(points[remaining_indices])\n",
    "    \n",
    "    if colors is not None:\n",
    "        new_pcd.colors = o3d.utility.Vector3dVector(colors[remaining_indices])\n",
    "\n",
    "    return new_pcd"
   ]
  },
  {
   "cell_type": "code",
   "execution_count": 28,
   "id": "2c7462bb",
   "metadata": {},
   "outputs": [],
   "source": [
    "new_point_drop = drop_points(point_cloud,90)"
   ]
  },
  {
   "cell_type": "code",
   "execution_count": 29,
   "id": "31efe123",
   "metadata": {},
   "outputs": [],
   "source": [
    "o3d.visualization.draw_geometries([new_point_drop])"
   ]
  },
  {
   "cell_type": "code",
   "execution_count": null,
   "id": "cf57fe48",
   "metadata": {},
   "outputs": [],
   "source": [
    "def jitter_points(pcd, jitter_amount=0.01):\n",
    "# Convert the point cloud to a numpy array\n",
    "    points = np.asarray(pcd.points)\n",
    "\n",
    "    # Apply jittering\n",
    "    jittered_points = points + np.random.normal(0, jitter_amount, points.shape)\n",
    "\n",
    "    # Create a new point cloud with jittered points\n",
    "    new_pcd = o3d.geometry.PointCloud()\n",
    "    new_pcd.points = o3d.utility.Vector3dVector(jittered_points)\n",
    "    \n",
    "    if pcd.has_colors():\n",
    "        new_pcd.colors = pcd.colors  # Keep the original colors\n",
    "\n",
    "    return new_pcd"
   ]
  },
  {
   "cell_type": "code",
   "execution_count": 38,
   "id": "3b35cae9",
   "metadata": {},
   "outputs": [],
   "source": [
    "new_point_jitter = drop_points(point_cloud,0.0001)"
   ]
  },
  {
   "cell_type": "code",
   "execution_count": 39,
   "id": "fee8b0ac",
   "metadata": {},
   "outputs": [],
   "source": [
    "o3d.visualization.draw_geometries([new_point_drop])"
   ]
  },
  {
   "cell_type": "code",
   "execution_count": null,
   "id": "c3261814",
   "metadata": {},
   "outputs": [],
   "source": [
    "def add_noise(pcd, noise_level=0.01):\n",
    "    \"\"\"\n",
    "    Adds random noise to the points in the point cloud.\n",
    "\n",
    "    Parameters:\n",
    "    - pcd: open3d.geometry.PointCloud\n",
    "        The input point cloud.\n",
    "    - noise_level: float\n",
    "        The standard deviation of the Gaussian noise to be added (default is 0.01).\n",
    "\n",
    "    Returns:\n",
    "    - new_pcd: open3d.geometry.PointCloud\n",
    "        The point cloud after adding noise.\n",
    "    \"\"\"\n",
    "    # Convert the point cloud to a numpy array\n",
    "    points = np.asarray(pcd.points)\n",
    "\n",
    "    # Add Gaussian noise\n",
    "    noisy_points = points + np.random.normal(0, noise_level, points.shape)\n",
    "\n",
    "    # Create a new point cloud with noisy points\n",
    "    new_pcd = o3d.geometry.PointCloud()\n",
    "    new_pcd.points = o3d.utility.Vector3dVector(noisy_points)\n",
    "    \n",
    "    if pcd.has_colors():\n",
    "        new_pcd.colors = pcd.colors  # Keep the original colors\n",
    "\n",
    "    return new_pcd"
   ]
  },
  {
   "cell_type": "code",
   "execution_count": null,
   "id": "c0780cce",
   "metadata": {},
   "outputs": [],
   "source": [
    "def change_color(pcd, color_shift=0.1):\n",
    "    \"\"\"\n",
    "    Slightly changes the color of the points in the point cloud.\n",
    "\n",
    "    Parameters:\n",
    "    - pcd: open3d.geometry.PointCloud\n",
    "        The input point cloud.\n",
    "    - color_shift: float\n",
    "        The maximum amount by which to change each color channel (default is 0.1).\n",
    "\n",
    "    Returns:\n",
    "    - new_pcd: open3d.geometry.PointCloud\n",
    "        The point cloud with slightly changed colors.\n",
    "    \"\"\"\n",
    "    if not pcd.has_colors():\n",
    "        print(\"Point cloud does not have colors.\")\n",
    "        return pcd\n",
    "\n",
    "    # Convert the colors to a numpy array\n",
    "    colors = np.asarray(pcd.colors)\n",
    "\n",
    "    # Apply a random color shift\n",
    "    shifted_colors = colors + np.random.uniform(-color_shift, color_shift, colors.shape)\n",
    "    \n",
    "    # Clip values to the range [0, 1]\n",
    "    shifted_colors = np.clip(shifted_colors, 0, 1)\n",
    "\n",
    "    # Create a new point cloud with shifted colors\n",
    "    new_pcd = o3d.geometry.PointCloud()\n",
    "    new_pcd.points = pcd.points  # Keep the original points\n",
    "    new_pcd.colors = o3d.utility.Vector3dVector(shifted_colors)\n",
    "\n",
    "    return new_pcd"
   ]
  }
 ],
 "metadata": {
  "kernelspec": {
   "display_name": "Python 3 (ipykernel)",
   "language": "python",
   "name": "python3"
  },
  "language_info": {
   "codemirror_mode": {
    "name": "ipython",
    "version": 3
   },
   "file_extension": ".py",
   "mimetype": "text/x-python",
   "name": "python",
   "nbconvert_exporter": "python",
   "pygments_lexer": "ipython3",
   "version": "3.11.9"
  }
 },
 "nbformat": 4,
 "nbformat_minor": 5
}
